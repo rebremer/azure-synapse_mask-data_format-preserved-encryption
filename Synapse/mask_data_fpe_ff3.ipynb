{
  "cells": [
    {
      "cell_type": "markdown",
      "source": [],
      "metadata": {
        "nteract": {
          "transient": {
            "deleting": false
          }
        }
      }
    },
    {
      "cell_type": "code",
      "source": [
        "import pkg_resources\r\n",
        "for d in pkg_resources.working_set:\r\n",
        "     if str(d)[0:3] == \"ff3\" or str(d)[0:12] == \"pycryptodome\" or str(d)[0:11] == \"unicodedata\":\r\n",
        "          print(str(d))"
      ],
      "outputs": [
        {
          "output_type": "display_data",
          "data": {
            "application/vnd.livy.statement-meta+json": {
              "spark_pool": "testhmacspark",
              "session_id": "67",
              "statement_id": 2,
              "state": "finished",
              "livy_statement_state": "available",
              "queued_time": "2023-05-11T09:00:45.2525198Z",
              "session_start_time": "2023-05-11T09:00:45.3145423Z",
              "execution_start_time": "2023-05-11T09:04:59.8907718Z",
              "execution_finish_time": "2023-05-11T09:05:00.129107Z",
              "spark_jobs": null,
              "parent_msg_id": "cfdb1644-09ba-4e72-b248-2bedaef407b6"
            },
            "text/plain": "StatementMeta(testhmacspark, 67, 2, Finished, Available)"
          },
          "metadata": {}
        },
        {
          "output_type": "stream",
          "name": "stdout",
          "text": [
            "unicodedata2 15.0.0\npycryptodome 3.17\nff3 1.0.1\n"
          ]
        }
      ],
      "execution_count": 5,
      "metadata": {
        "jupyter": {
          "source_hidden": false,
          "outputs_hidden": false
        },
        "nteract": {
          "transient": {
            "deleting": false
          }
        }
      }
    },
    {
      "cell_type": "code",
      "source": [
        "%%pyspark\r\n",
        "#df = spark.read.load.('abfss://bronze@testhmacmaskstor.dfs.core.windows.net/SalesLT.Customer.txt', format='text', header='true')\r\n",
        "df = spark.read.option(\"header\",True).csv('abfss://bronze@testhmacmaskstor.dfs.core.windows.net/SalesLT.Customer_1M.txt')\r\n",
        "\r\n",
        "display(df.limit(10))\r\n",
        "\r\n",
        "# display(df.groupBy(\"MiddleName\").count().orderBy(\"MiddleName\"))\r\n",
        "# https://files.pythonhosted.org/packages/14/58/77278d7a078241b55b515f6073b90108125fb0d197b384a0f372c5f61c80/pycryptodome-3.17-cp35-abi3-manylinux_2_17_x86_64.manylinux2014_x86_64.whl\r\n",
        "# https://www.wheelodex.org/projects/ff3/wheels/ff3-1.0.1-py3-none-any.whl/\r\n",
        "# https://files.pythonhosted.org/packages/be/ea/90e14e807da5a39e5b16789acacd48d63ca3e4f23dfa964a840eeadebb13/Unidecode-1.3.6-py3-none-any.whl"
      ],
      "outputs": [
        {
          "output_type": "display_data",
          "data": {
            "application/vnd.livy.statement-meta+json": {
              "spark_pool": "testhmacspark",
              "session_id": "67",
              "statement_id": 3,
              "state": "finished",
              "livy_statement_state": "available",
              "queued_time": "2023-05-11T09:07:17.6569123Z",
              "session_start_time": null,
              "execution_start_time": "2023-05-11T09:07:17.8534785Z",
              "execution_finish_time": "2023-05-11T09:07:50.9454008Z",
              "spark_jobs": null,
              "parent_msg_id": "ca629f58-d837-45b8-ba0a-34d8cf71a35b"
            },
            "text/plain": "StatementMeta(testhmacspark, 67, 3, Finished, Available)"
          },
          "metadata": {}
        },
        {
          "output_type": "display_data",
          "data": {
            "application/vnd.synapse.widget-view+json": {
              "widget_id": "1ab1d5ce-be5e-4a22-9fba-75a2c5a6f260",
              "widget_type": "Synapse.DataFrame"
            },
            "text/plain": "SynapseWidget(Synapse.DataFrame, 1ab1d5ce-be5e-4a22-9fba-75a2c5a6f260)"
          },
          "metadata": {}
        }
      ],
      "execution_count": 6,
      "metadata": {
        "jupyter": {
          "source_hidden": false,
          "outputs_hidden": false
        },
        "nteract": {
          "transient": {
            "deleting": false
          }
        },
        "microsoft": {
          "language": "python"
        },
        "collapsed": false
      }
    },
    {
      "cell_type": "code",
      "source": [
        "from ff3 import FF3Cipher\r\n",
        "import string\r\n",
        "#\r\n",
        "KEY = TokenLibrary.getSecret('test-hmacmask-akv', 'fpekey', 'AzureKeyVaultHMAC')\r\n",
        "TWEAK = TokenLibrary.getSecret('test-hmacmask-akv', 'fpetweak', 'AzureKeyVaultHMAC')\r\n",
        "#\r\n",
        "C_NUMERIC_MIN = 6\r\n",
        "C_NUMERIC_MAX = 56\r\n",
        "C_NUMERIC_RADIX = 10\r\n",
        "C_NUMERIC_MIN_PREFIX = \"0\"\r\n",
        "#\r\n",
        "C_ALPHANUMERIC_MIN = 6\r\n",
        "C_ALPHANUMERIC_MAX = 32\r\n",
        "C_ALPHANUMERIC_RADIX = 62\r\n",
        "C_ALPHANUMERIC_MIN_PREFIX = \"0\"\r\n",
        "#\r\n",
        "C_ALPHA_LOWER_MIN = 5\r\n",
        "C_ALPHA_LOWER_MAX = 40\r\n",
        "C_ALPHA_LOWER_MIN_PREFIX = \"a\"\r\n",
        "C_ALPHA_LOWER_ALPHABET = \"abcdefghijklmnopqrstuvwxyz\"\r\n",
        "#\r\n",
        "C_ALPHA_UPPER_MIN = 5\r\n",
        "C_ALPHA_UPPER_MAX = 40\r\n",
        "C_ALPHA_UPPER_MIN_PREFIX = \"A\"\r\n",
        "C_ALPHA_UPPER_ALPHABET = \"ABCDEFGHIJKLMNOPQRSTUVWXYZ\"\r\n",
        "#\r\n",
        "C_ALPHANUMERIC_EXTENDED_MIN = 4\r\n",
        "C_ALPHANUMERIC_EXTENDED_MAX = 30\r\n",
        "C_ALPHANUMERIC_EXTENDED_MIN_PREFIX = \" \"\r\n",
        "C_ALPHANUMERIC_EXTENDED_ALPHABET = string.digits + string.ascii_lowercase + string.ascii_uppercase + \" !ç@#$%^&*()?'\\/-.,¡é\"\r\n",
        "#\r\n",
        "C_EMAIL_MIN = 4\r\n",
        "C_EMAIL_MAX = 30\r\n",
        "C_EMAIL_MIN_PREFIX = \" \"\r\n",
        "C_EMAIL_ALPHABET = string.digits + string.ascii_lowercase + string.ascii_uppercase + \"._%+-çé\""
      ],
      "outputs": [
        {
          "output_type": "display_data",
          "data": {
            "application/vnd.livy.statement-meta+json": {
              "spark_pool": "testhmacspark",
              "session_id": "67",
              "statement_id": 4,
              "state": "finished",
              "livy_statement_state": "available",
              "queued_time": "2023-05-11T09:09:46.2050374Z",
              "session_start_time": null,
              "execution_start_time": "2023-05-11T09:09:46.3938372Z",
              "execution_finish_time": "2023-05-11T09:09:46.9950907Z",
              "spark_jobs": null,
              "parent_msg_id": "2ba253ad-f008-47a6-bee5-83f43a68179d"
            },
            "text/plain": "StatementMeta(testhmacspark, 67, 4, Finished, Available)"
          },
          "metadata": {}
        }
      ],
      "execution_count": 7,
      "metadata": {
        "jupyter": {
          "source_hidden": false,
          "outputs_hidden": false
        },
        "nteract": {
          "transient": {
            "deleting": false
          }
        }
      }
    },
    {
      "cell_type": "code",
      "source": [
        "from unidecode import unidecode\r\n",
        "\r\n",
        "def _fpe_ff3_base(col_val, c, c_min, c_max, c_min_prefix):\r\n",
        "\r\n",
        "    if col_val == None:\r\n",
        "        return None\r\n",
        "\r\n",
        "    ciphertext =\"\"\r\n",
        "    if len(col_val) < c_min:\r\n",
        "        # column length is too short to be encrypted. Prefix column with values to reach minimal length\r\n",
        "        col_val = str(col_val).rjust(c_min, c_min_prefix)\r\n",
        "        ciphertext = c.encrypt(col_val)\r\n",
        "    elif len(col_val) > c_max:\r\n",
        "        # column length is too long and needs to be chunked. Every chunck is then encrypted and appended\r\n",
        "        current_chunck_length = c_max\r\n",
        "        while current_chunck_length > 0:\r\n",
        "            col_val_array = [col_val[i:i+current_chunck_length] for i in range(0, len(col_val), current_chunck_length)]\r\n",
        "            # check if length of last chunck is larger than minimum\r\n",
        "            if len(col_val_array[-1]) < c_min:\r\n",
        "                #length of last element is shorter than minimum. Decrease current_chunck_length with 1\r\n",
        "                current_chunck_length -= 1\r\n",
        "            else:\r\n",
        "                # length of last chunck is larger than minimum. Ready process\r\n",
        "                break\r\n",
        "        \r\n",
        "        for col_val_item in col_val_array:\r\n",
        "            ciphertext += c.encrypt(col_val_item)\r\n",
        "    else:\r\n",
        "        ciphertext = c.encrypt(col_val)\r\n",
        "\r\n",
        "    return ciphertext\r\n",
        "\r\n",
        "def _fpe_ff3_phone_parsing(col_val, c, c_min, c_max, c_min_prefix):\r\n",
        "\r\n",
        "    if col_val == None:\r\n",
        "        return None\r\n",
        "\r\n",
        "    raw_string = str(''.join(filter(str.isdigit, col_val)))\r\n",
        "    raw_ciphertext = _fpe_ff3_base(raw_string, c, c_min, c_max, c_min_prefix)\r\n",
        "\r\n",
        "    ciphertext = \"\"\r\n",
        "    numeric_count = 0\r\n",
        "    for j, val in enumerate(col_val):\r\n",
        "        if val.isnumeric():\r\n",
        "            ciphertext += raw_ciphertext[numeric_count]\r\n",
        "            numeric_count += 1\r\n",
        "        else:\r\n",
        "            ciphertext += col_val[j]\r\n",
        "    \r\n",
        "    return ciphertext\r\n",
        "\r\n",
        "def _fpe_ff3_email_parsing(col_val, c, c_min, c_max, c_min_prefix):\r\n",
        "\r\n",
        "    if col_val == None:\r\n",
        "        return None\r\n",
        "\r\n",
        "    at_split = col_val.split(\"@\")\r\n",
        "    len_at_split = len(at_split[0])\r\n",
        "    dot_split = at_split[1].split(\".\")\r\n",
        "    len_dot_split = len_at_split + len(dot_split[0])\r\n",
        "    raw_string = at_split[0] + dot_split[0]\r\n",
        "    raw_ciphertext = _fpe_ff3_base(raw_string, c, c_min, c_max, c_min_prefix)\r\n",
        "    ciphertext = raw_ciphertext[0 : len_at_split] + \"@\" + \\\r\n",
        "                 raw_ciphertext[len_at_split : len_dot_split] + \".\" + \\\r\n",
        "                 col_val[len_dot_split + 2 : ]\r\n",
        "    \r\n",
        "    return ciphertext\r\n",
        "\r\n",
        "def _fpe_ff3_to_ascii_preserve_other_parsing(col_val, \\\r\n",
        "                                    c_alpha_lower, c_alpha_lower_min, c_alpha_lower_max, c_alpha_lower_min_prefix, \\\r\n",
        "                                    c_alpha_upper, c_alpha_upper_min, c_alpha_upper_max, c_alpha_upper_min_prefix, \\\r\n",
        "                                    c_numeric, c_numeric_min, c_numeric_max, c_numeric_min_prefix):\r\n",
        "\r\n",
        "    if col_val == None:\r\n",
        "        return None\r\n",
        "\r\n",
        "    col_val = unidecode(col_val) # convert unicode to ascii, č becomes c   \r\n",
        "    raw_alpha = str(''.join(filter(str.isalpha, col_val)))\r\n",
        "    raw_alpha_lower = str(''.join(filter(str.islower, raw_alpha)))\r\n",
        "    raw_alpha_upper = str(''.join(filter(str.isupper, raw_alpha)))\r\n",
        "    raw_numeric = str(''.join(filter(str.isdigit, col_val)))\r\n",
        "    #\r\n",
        "    raw_alpha_lower_ciphertext = _fpe_ff3_base(raw_alpha_lower, c_alpha_lower, c_alpha_lower_min, c_alpha_lower_max, c_alpha_lower_min_prefix)\r\n",
        "    raw_alpha_upper_ciphertext = _fpe_ff3_base(raw_alpha_upper, c_alpha_upper, c_alpha_upper_min, c_alpha_upper_max, c_alpha_upper_min_prefix)\r\n",
        "    raw_numeric_ciphertext = _fpe_ff3_base(raw_numeric, c_numeric, c_numeric_min, c_numeric_max, c_numeric_min_prefix)\r\n",
        "\r\n",
        "    ciphertext = \"\"\r\n",
        "    alpha_lower_count = 0\r\n",
        "    alpha_upper_count = 0\r\n",
        "    numeric_count = 0\r\n",
        "    for j, val in enumerate(col_val):\r\n",
        "        if val.isalpha():\r\n",
        "            if val.islower():\r\n",
        "                ciphertext += raw_alpha_lower_ciphertext[alpha_lower_count]\r\n",
        "                alpha_lower_count += 1\r\n",
        "            else:\r\n",
        "                ciphertext += raw_alpha_upper_ciphertext[alpha_upper_count]\r\n",
        "                alpha_upper_count += 1            \r\n",
        "        elif val.isnumeric():\r\n",
        "            ciphertext += raw_numeric_ciphertext[numeric_count]\r\n",
        "            numeric_count += 1\r\n",
        "        else:\r\n",
        "            ciphertext += col_val[j]\r\n",
        "    \r\n",
        "    return ciphertext    \r\n",
        "\r\n",
        "def fpe_ff3_numeric(col_val):\r\n",
        "    c = FF3Cipher(KEY, TWEAK, radix=C_NUMERIC_RADIX)\r\n",
        "    return _fpe_ff3_base(col_val, c, C_NUMERIC_MIN, C_NUMERIC_MAX, C_NUMERIC_MIN_PREFIX)\r\n",
        "\r\n",
        "def fpe_ff3_alphanumeric(col_val):\r\n",
        "    c = FF3Cipher(KEY, TWEAK, radix=C_ALPHANUMERIC_RADIX)\r\n",
        "    return _fpe_ff3_base(col_val, c, C_ALPHANUMERIC_MIN, C_ALPHANUMERIC_MAX, C_ALPHANUMERIC_MIN_PREFIX)\r\n",
        "\r\n",
        "def fpe_ff3_alphanumeric_extended(col_val):\r\n",
        "    c = FF3Cipher.withCustomAlphabet(KEY, TWEAK, alphabet=C_ALPHANUMERIC_EXTENDED_ALPHABET)\r\n",
        "    return _fpe_ff3_base(col_val, c, C_ALPHANUMERIC_EXTENDED_MIN, C_ALPHANUMERIC_EXTENDED_MAX, C_ALPHANUMERIC_EXTENDED_MIN_PREFIX)\r\n",
        "\r\n",
        "def fpe_ff3_phone(col_val):\r\n",
        "    c = FF3Cipher(KEY, TWEAK, radix=C_NUMERIC_RADIX)\r\n",
        "    return _fpe_ff3_phone_parsing(col_val, c, C_NUMERIC_MIN, C_NUMERIC_MAX, C_NUMERIC_MIN_PREFIX)\r\n",
        "\r\n",
        "def fpe_ff3_email(col_val):\r\n",
        "    c = FF3Cipher.withCustomAlphabet(KEY, TWEAK, alphabet=C_EMAIL_ALPHABET)\r\n",
        "    return _fpe_ff3_email_parsing(col_val, c, C_EMAIL_MIN, C_EMAIL_MAX, C_EMAIL_MIN_PREFIX)\r\n",
        "\r\n",
        "def fpe_ff3_to_ascii_preserve_other(col_val):\r\n",
        "    c_alpha_lower = FF3Cipher.withCustomAlphabet(KEY, TWEAK, alphabet=C_ALPHA_LOWER_ALPHABET)\r\n",
        "    c_alpha_upper = FF3Cipher.withCustomAlphabet(KEY, TWEAK, alphabet=C_ALPHA_UPPER_ALPHABET)\r\n",
        "    c_numeric = FF3Cipher(KEY, TWEAK, radix=C_NUMERIC_RADIX)\r\n",
        "    return _fpe_ff3_to_ascii_preserve_other_parsing(col_val, \\\r\n",
        "                                                       c_alpha_lower, C_ALPHA_LOWER_MIN, C_ALPHA_LOWER_MAX, C_ALPHA_LOWER_MIN_PREFIX, \\\r\n",
        "                                                       c_alpha_upper, C_ALPHA_UPPER_MIN, C_ALPHA_UPPER_MAX, C_ALPHA_UPPER_MIN_PREFIX, \\\r\n",
        "                                                       c_numeric, C_NUMERIC_MIN, C_NUMERIC_MAX, C_NUMERIC_MIN_PREFIX)"
      ],
      "outputs": [
        {
          "output_type": "display_data",
          "data": {
            "application/vnd.livy.statement-meta+json": {
              "spark_pool": "testhmacspark",
              "session_id": "67",
              "statement_id": 5,
              "state": "finished",
              "livy_statement_state": "available",
              "queued_time": "2023-05-11T09:09:57.5435455Z",
              "session_start_time": null,
              "execution_start_time": "2023-05-11T09:09:57.7203604Z",
              "execution_finish_time": "2023-05-11T09:09:57.8989785Z",
              "spark_jobs": null,
              "parent_msg_id": "a98a918b-a43b-49fe-8fd7-bbdf76ea4881"
            },
            "text/plain": "StatementMeta(testhmacspark, 67, 5, Finished, Available)"
          },
          "metadata": {}
        }
      ],
      "execution_count": 8,
      "metadata": {
        "jupyter": {
          "source_hidden": false,
          "outputs_hidden": false
        },
        "nteract": {
          "transient": {
            "deleting": false
          }
        }
      }
    },
    {
      "cell_type": "code",
      "source": [
        "id = \"12345232\"\r\n",
        "id_fpe = fpe_ff3_numeric(id)\r\n",
        "name = \"Bremer\"\r\n",
        "name_fpe = fpe_ff3_alphanumeric(name)\r\n",
        "company = \"Bremer & Sons!, LTD.\"\r\n",
        "company_fpe = fpe_ff3_alphanumeric_extended(company)\r\n",
        "phone = \"06-23112312\"\r\n",
        "phone_fpe = fpe_ff3_phone(phone)\r\n",
        "email = \"bremersons@hotmail.com\"\r\n",
        "email_fpe = fpe_ff3_email(email)\r\n",
        "to_ascii_preserve_other = \"Kožušček123a\"\r\n",
        "to_ascii_preserve_other_fpe = fpe_ff3_to_ascii_preserve_other(to_ascii_preserve_other)\r\n",
        "#\r\n",
        "print(id, \"=>\",  id_fpe)\r\n",
        "print(name, \"=>\",  name_fpe)\r\n",
        "print(company, \"=>\",  company_fpe)\r\n",
        "print(phone, \"=>\",  phone_fpe)\r\n",
        "print(email, \"=>\",  email_fpe)\r\n",
        "print(to_ascii_preserve_other, \"=>\",  to_ascii_preserve_other_fpe)"
      ],
      "outputs": [
        {
          "output_type": "display_data",
          "data": {
            "application/vnd.livy.statement-meta+json": {
              "spark_pool": "testhmacspark",
              "session_id": "67",
              "statement_id": 7,
              "state": "finished",
              "livy_statement_state": "available",
              "queued_time": "2023-05-11T09:10:19.679303Z",
              "session_start_time": null,
              "execution_start_time": "2023-05-11T09:10:19.8431411Z",
              "execution_finish_time": "2023-05-11T09:10:20.0626855Z",
              "spark_jobs": null,
              "parent_msg_id": "81bd407c-28f1-427e-a82d-9894b358148e"
            },
            "text/plain": "StatementMeta(testhmacspark, 67, 7, Finished, Available)"
          },
          "metadata": {}
        },
        {
          "output_type": "stream",
          "name": "stdout",
          "text": [
            "12345232 => 73766379\nBremer => 6paCYa\nBremer & Sons!, LTD. => OsH0*VlF(dsIGHXkZ4dK\n06-23112312 => 48-78322271\nbremersons@hotmail.com => l-YLt53VGs@VDIdçQ4.com\nKožušček123a => Sqxbblkd659p\n"
          ]
        }
      ],
      "execution_count": 10,
      "metadata": {
        "jupyter": {
          "source_hidden": false,
          "outputs_hidden": false
        },
        "nteract": {
          "transient": {
            "deleting": false
          }
        }
      }
    },
    {
      "cell_type": "code",
      "source": [
        "# https://tunetotech.com/Post.aspx?post=9\r\n",
        "from pyspark.sql.functions import udf\r\n",
        "from pyspark.sql.types import StringType\r\n",
        "from ff3 import FF3Cipher\r\n",
        "#\r\n",
        "fpe_ff3_numeric_udf = udf(fpe_ff3_numeric, StringType())\r\n",
        "fpe_ff3_alphanumeric_udf = udf(fpe_ff3_alphanumeric, StringType())\r\n",
        "fpe_ff3_alphanumeric_extended_udf = udf(fpe_ff3_alphanumeric_extended, StringType())\r\n",
        "fpe_ff3_email_udf = udf(fpe_ff3_email, StringType())\r\n",
        "fpe_ff3_phone_udf = udf(fpe_ff3_phone, StringType())\r\n",
        "fpe_ff3_to_ascii_preserve_other_udf = udf(fpe_ff3_to_ascii_preserve_other, StringType())\r\n",
        "#\r\n",
        "df2=df.withColumn('CustomerID', fpe_ff3_numeric_udf(df.CustomerID)) \\\r\n",
        "      .withColumn('FirstName', fpe_ff3_alphanumeric_extended_udf(df.FirstName)) \\\r\n",
        "      .withColumn('LastName', fpe_ff3_alphanumeric_extended_udf(df.LastName)) \\\r\n",
        "      .withColumn('CompanyName', fpe_ff3_alphanumeric_extended_udf(df.CompanyName)) \\\r\n",
        "      .withColumn('EmailAddress', fpe_ff3_email_udf(df.EmailAddress)) \\\r\n",
        "      .withColumn('Phone', fpe_ff3_phone_udf(df.Phone)) \\\r\n",
        "      .withColumn('MiddleName', fpe_ff3_to_ascii_preserve_other_udf(df.MiddleName))\r\n",
        "\r\n",
        "display(df2.limit(10))"
      ],
      "outputs": [
        {
          "output_type": "display_data",
          "data": {
            "application/vnd.livy.statement-meta+json": {
              "spark_pool": "testhmacspark",
              "session_id": "67",
              "statement_id": 8,
              "state": "finished",
              "livy_statement_state": "available",
              "queued_time": "2023-05-11T09:10:28.6099697Z",
              "session_start_time": null,
              "execution_start_time": "2023-05-11T09:10:28.8070821Z",
              "execution_finish_time": "2023-05-11T09:10:39.9126558Z",
              "spark_jobs": null,
              "parent_msg_id": "43c24a5a-3452-4d7a-b105-46286c4968df"
            },
            "text/plain": "StatementMeta(testhmacspark, 67, 8, Finished, Available)"
          },
          "metadata": {}
        },
        {
          "output_type": "display_data",
          "data": {
            "application/vnd.synapse.widget-view+json": {
              "widget_id": "ecb949dc-a432-4c40-993d-fc32c7593a28",
              "widget_type": "Synapse.DataFrame"
            },
            "text/plain": "SynapseWidget(Synapse.DataFrame, ecb949dc-a432-4c40-993d-fc32c7593a28)"
          },
          "metadata": {}
        }
      ],
      "execution_count": 11,
      "metadata": {
        "jupyter": {
          "source_hidden": false,
          "outputs_hidden": false
        },
        "nteract": {
          "transient": {
            "deleting": false
          }
        },
        "collapsed": false
      }
    },
    {
      "cell_type": "code",
      "source": [
        "df2.write.mode(\"overwrite\").option(\"header\",\"true\").csv('abfss://gold@testhmacmaskstor.dfs.core.windows.net/SalesLT.Customer_1M_masked.txt')"
      ],
      "outputs": [
        {
          "output_type": "display_data",
          "data": {
            "application/vnd.livy.statement-meta+json": {
              "spark_pool": "testhmacspark",
              "session_id": "67",
              "statement_id": 9,
              "state": "finished",
              "livy_statement_state": "available",
              "queued_time": "2023-05-11T09:10:46.9866426Z",
              "session_start_time": null,
              "execution_start_time": "2023-05-11T09:10:47.1442107Z",
              "execution_finish_time": "2023-05-11T09:12:59.3640402Z",
              "spark_jobs": null,
              "parent_msg_id": "939f2833-7b46-45e3-807e-4d20a57c556a"
            },
            "text/plain": "StatementMeta(testhmacspark, 67, 9, Finished, Available)"
          },
          "metadata": {}
        }
      ],
      "execution_count": 12,
      "metadata": {
        "jupyter": {
          "source_hidden": false,
          "outputs_hidden": false
        },
        "nteract": {
          "transient": {
            "deleting": false
          }
        }
      }
    },
    {
      "cell_type": "code",
      "source": [],
      "outputs": [],
      "execution_count": null,
      "metadata": {
        "jupyter": {
          "source_hidden": false,
          "outputs_hidden": false
        },
        "nteract": {
          "transient": {
            "deleting": false
          }
        }
      }
    }
  ],
  "metadata": {
    "kernelspec": {
      "name": "synapse_pyspark",
      "language": "Python",
      "display_name": "Synapse PySpark"
    },
    "language_info": {
      "name": "python"
    },
    "kernel_info": {
      "name": "synapse_pyspark"
    },
    "description": null,
    "save_output": true,
    "synapse_widget": {
      "version": "0.1",
      "state": {
        "1ab1d5ce-be5e-4a22-9fba-75a2c5a6f260": {
          "type": "Synapse.DataFrame",
          "sync_state": {
            "table": {
              "rows": [
                {
                  "0": "276",
                  "1": "False",
                  "2": "Mr.",
                  "3": "Michael John",
                  "4": "R.",
                  "5": "Troyer",
                  "7": "Thrifty Parts and Sales",
                  "8": "adventure-works\\linda3",
                  "9": "michaeljohn0@adventure-works.com",
                  "10": "308-555-0175",
                  "11": "Gdklarx2tW1EtZEyrAUEIhhguzrFKVS4Bh3BdAsGngk=",
                  "12": "HUE+JKI=",
                  "13": "09e2cb2a-b0ca-4376-abe7-e9240ead2c16",
                  "14": "2007-09-01 00:00:00.0000000"
                },
                {
                  "0": "277",
                  "1": "False",
                  "2": "Mr.",
                  "3": "Guy",
                  "5": "Gilbert",
                  "7": "The Bicycle Accessories Company",
                  "8": "adventure-works\\shu0",
                  "9": "guy0@adventure-works.com",
                  "10": "583-555-0198",
                  "11": "YMhZzdS3NtxXPsz/PPksfdYWIvhuoemim9KoDsx20cg=",
                  "12": "rQoQs38=",
                  "13": "37156292-0d92-4f6b-9014-ccb0b29e9f9a",
                  "14": "2006-09-01 00:00:00.0000000"
                },
                {
                  "0": "280",
                  "1": "False",
                  "2": "Mr.",
                  "3": "Frances",
                  "4": "J.",
                  "5": "Giglio",
                  "7": "Standard Bikes",
                  "8": "adventure-works\\josé1",
                  "9": "frances1@adventure-works.com",
                  "10": "692-555-0136",
                  "11": "Vf9lyf+xKSbSXq9yAcMEF9niZm29wvPV9e9dU9sYQVc=",
                  "12": "6ansEQA=",
                  "13": "73b26c19-1113-427f-bbab-beb6fcda33c3",
                  "14": "2006-08-01 00:00:00.0000000"
                },
                {
                  "0": "281",
                  "1": "False",
                  "2": "Ms.",
                  "3": "Suzana De Abreu",
                  "4": "A.",
                  "5": "Canuto",
                  "7": "Petroleum Products Distributors",
                  "8": "adventure-works\\josé1",
                  "9": "suzanadeabreu0@adventure-works.com",
                  "10": "990-555-0141",
                  "11": "aQhg/A43Nq3pqIBjcyPBvjQ7qXHAckVwm6FjAZCx0nc=",
                  "12": "RpQyjlA=",
                  "13": "b3b07166-1798-41b4-a7c2-0579292008c4",
                  "14": "2007-09-01 00:00:00.0000000"
                },
                {
                  "0": "282",
                  "1": "False",
                  "2": "Mr.",
                  "3": "Billy",
                  "4": "J.",
                  "5": "Trent",
                  "7": "Quick Parts and Service",
                  "8": "adventure-works\\garrett1",
                  "9": "billy0@adventure-works.com",
                  "10": "882-555-0115",
                  "11": "tSfXgpVAnQ6TL8XxnK0PMKR2Ngn49a0253VcVtcV6QQ=",
                  "12": "V1n+9SQ=",
                  "13": "cf04f255-d817-4ec9-9d99-4580b1ed0ce2",
                  "14": "2007-09-01 00:00:00.0000000"
                },
                {
                  "0": "286",
                  "1": "False",
                  "2": "Mr.",
                  "3": "Leo",
                  "5": "Giakoumakis",
                  "7": "Number One Bike Co.",
                  "8": "adventure-works\\jae0",
                  "9": "leo0@adventure-works.com",
                  "10": "1 (11) 500 555-0169",
                  "11": "x78xcW0FvKo3V2RvMGf37bcWhb50vMZ22IuaZcu+qmM=",
                  "12": "abrUsFg=",
                  "13": "6266ccc4-1af0-42e0-bca4-b33ea6838eee",
                  "14": "2006-07-01 00:00:00.0000000"
                },
                {
                  "0": "287",
                  "1": "False",
                  "2": "Mr.",
                  "3": "Grant",
                  "5": "Culbertson",
                  "7": "Handy Bike Services",
                  "8": "adventure-works\\michael9",
                  "9": "grant1@adventure-works.com",
                  "10": "859-555-0173",
                  "11": "nkkvhNgGMBN5JS2w3ewyvV4KCwrTMYC4+yoS/4hIUok=",
                  "12": "fqDHYeo=",
                  "13": "448cbbfe-eddc-443d-b7c8-57aeaa463be5",
                  "14": "2005-08-01 00:00:00.0000000"
                },
                {
                  "0": "288",
                  "1": "False",
                  "2": "Mr.",
                  "3": "Robert",
                  "4": "L.",
                  "5": "Barker",
                  "7": "Kickstand Sellers",
                  "8": "adventure-works\\michael9",
                  "9": "robert3@adventure-works.com",
                  "10": "241-555-0112",
                  "11": "q8JpThg+EEoLRrvqBMW+Wa0RbFcCIfVIzYcGGELEOdk=",
                  "12": "cdUS/K4=",
                  "13": "44edc8ac-bb0e-418e-bdd3-4f7691381633",
                  "14": "2006-12-01 00:00:00.0000000"
                },
                {
                  "0": "289",
                  "1": "False",
                  "2": "Ms.",
                  "3": "Gabriel",
                  "4": "L.",
                  "5": "Bockenkamp",
                  "7": "Moderately-Priced Bikes Store",
                  "8": "adventure-works\\pamela0",
                  "9": "gabriel0@adventure-works.com",
                  "10": "763-555-0145",
                  "11": "hW0+tFeNNdvPsnKDuHc6OmH0bCdD2kCfpU6qVvIjdPs=",
                  "12": "fjVy+G4=",
                  "13": "a42d0f51-c2bc-433d-b2bd-61c516296669",
                  "14": "2005-08-01 00:00:00.0000000"
                },
                {
                  "0": "290",
                  "1": "False",
                  "2": "Mr.",
                  "3": "Scott",
                  "5": "Culp",
                  "7": "Friendly Bike Shop",
                  "8": "adventure-works\\david8",
                  "9": "scott3@adventure-works.com",
                  "10": "119-555-0167",
                  "11": "Xf7AJHcry+LouddJR3dIGHjo8du8EO+214E81gPafj0=",
                  "12": "rXx8clQ=",
                  "13": "d0dcde2d-8c38-48fc-9d83-5ebe8a8577ae",
                  "14": "2006-07-01 00:00:00.0000000"
                }
              ],
              "schema": [
                {
                  "key": "0",
                  "name": "CustomerID",
                  "type": "string"
                },
                {
                  "key": "1",
                  "name": "NameStyle",
                  "type": "string"
                },
                {
                  "key": "2",
                  "name": "Title",
                  "type": "string"
                },
                {
                  "key": "3",
                  "name": "FirstName",
                  "type": "string"
                },
                {
                  "key": "4",
                  "name": "MiddleName",
                  "type": "string"
                },
                {
                  "key": "5",
                  "name": "LastName",
                  "type": "string"
                },
                {
                  "key": "6",
                  "name": "Suffix",
                  "type": "string"
                },
                {
                  "key": "7",
                  "name": "CompanyName",
                  "type": "string"
                },
                {
                  "key": "8",
                  "name": "SalesPerson",
                  "type": "string"
                },
                {
                  "key": "9",
                  "name": "EmailAddress",
                  "type": "string"
                },
                {
                  "key": "10",
                  "name": "Phone",
                  "type": "string"
                },
                {
                  "key": "11",
                  "name": "PasswordHash",
                  "type": "string"
                },
                {
                  "key": "12",
                  "name": "PasswordSalt",
                  "type": "string"
                },
                {
                  "key": "13",
                  "name": "rowguid",
                  "type": "string"
                },
                {
                  "key": "14",
                  "name": "ModifiedDate",
                  "type": "string"
                }
              ],
              "truncated": false
            },
            "isSummary": false,
            "language": "scala"
          },
          "persist_state": {
            "view": {
              "type": "details",
              "tableOptions": {},
              "chartOptions": {
                "chartType": "bar",
                "aggregationType": "count",
                "categoryFieldKeys": [
                  "0"
                ],
                "seriesFieldKeys": [
                  "0"
                ],
                "isStacked": false
              }
            }
          }
        },
        "ecb949dc-a432-4c40-993d-fc32c7593a28": {
          "type": "Synapse.DataFrame",
          "sync_state": {
            "table": {
              "rows": [
                {
                  "0": "359228",
                  "1": "False",
                  "2": "Mr.",
                  "3": "? sSczX",
                  "4": "F.",
                  "5": "$GD-",
                  "7": "iqçw¡BUNR?*f",
                  "8": "adventure-works\\pamela0",
                  "9": "CmSeuD45@v32O-30çP7MaDRo.com",
                  "10": "969-549-8269",
                  "11": "L/Rlwxzp4w7RWmEgXX+/A7cXaePEPcp+KwQhl2fJL7w=",
                  "12": "1KjXYs4=",
                  "13": "3f5ae95e-b87d-4aed-95b4-c3797afcb74f",
                  "14": "2005-08-01 00:00:00.0000000"
                },
                {
                  "0": "485624",
                  "1": "False",
                  "2": "Mr.",
                  "3": "H5O&\\",
                  "5": "¡R5ç8s",
                  "7": "ehl/T8b/ ¡UQ8KQerx",
                  "8": "adventure-works\\david8",
                  "9": "éF2JhB@vNkn3zMSéMDQ7p9.com",
                  "10": "592-958-6517",
                  "11": "YPdtRdvqeAhj6wyxEsFdshBDNXxkCXn+CRgbvJItknw=",
                  "12": "fs1ZGhY=",
                  "13": "e552f657-a9af-4a7d-a645-c429d6e02491",
                  "14": "2006-08-01 00:00:00.0000000"
                },
                {
                  "0": "589364",
                  "1": "False",
                  "2": "Ms.",
                  "3": "x@Mt¡",
                  "4": "B.",
                  "5": "ztDdY.^X",
                  "7": "y03$Xin&S?0K.zPDi.Nx4^lU",
                  "8": "adventure-works\\jillian0",
                  "9": "Lbe+eR@uHX4LbwfLthLoJ_.com",
                  "10": "621-653-8534",
                  "11": "LNoK27abGQo48gGue3EBV/UrlYSToV0/s87dCRV7uJk=",
                  "12": "YTNH5Rw=",
                  "13": "130774b1-db21-4ef3-98c8-c104bcd6ed6d",
                  "14": "2005-09-01 00:00:00.0000000"
                },
                {
                  "0": "713641",
                  "1": "False",
                  "2": "Ms.",
                  "3": "U2 v)",
                  "4": "K.",
                  "5": "Cq$$'",
                  "7": "RY\\0p%3olc,FX)/N'h%H^",
                  "8": "adventure-works\\jillian0",
                  "9": "YvKRiK@sDYVYH7eAOl6I5g.com",
                  "10": "884-130-9744",
                  "11": "ElzTpSNbUW1Ut+L5cWlfR7MF6nBZia8WpmGaQPjLOJA=",
                  "12": "nm7D5e4=",
                  "13": "ff862851-1daa-4044-be7c-3e85583c054d",
                  "14": "2006-07-01 00:00:00.0000000"
                },
                {
                  "0": "063994",
                  "1": "False",
                  "2": "Mr.",
                  "3": "Cç7T",
                  "5": "V'wL,¡tç-H",
                  "7": "RçF)x%ruG1s*5UCQ t0$Ue%ELo",
                  "8": "adventure-works\\shu0",
                  "9": "%QWyn@eghHvO_GN7paAJA.com",
                  "10": "471-489-3856",
                  "11": "KJqV15wsX3PG8TS5GSddp6LFFVdd3CoRftZM/tP0+R4=",
                  "12": "cNFKU4w=",
                  "13": "83905bdc-6f5e-4f71-b162-c98da069f38a",
                  "14": "2006-09-01 00:00:00.0000000"
                },
                {
                  "0": "711981",
                  "1": "False",
                  "2": "Ms.",
                  "3": "SRbu\\'No",
                  "4": "X.",
                  "5": "mW'Lçgv",
                  "7": "8AwK-ap4J$v7qN*a?yx/LQ?W",
                  "8": "adventure-works\\linda3",
                  "9": "Ae_8g7rcz@sAt2Z3lE8xb9çNE.com",
                  "10": "645-853-7991",
                  "11": "OKT0scizCdIzymHHOtyJKQiC/fCILSooSZ8dQ2Y34VM=",
                  "12": "ihWf50M=",
                  "13": "1a92df88-bfa2-467d-bd54-fcb9e647fdd7",
                  "14": "2007-09-01 00:00:00.0000000"
                },
                {
                  "0": "923885",
                  "1": "False",
                  "2": "Mr.",
                  "3": "0jO¡N@K",
                  "4": "B.",
                  "5": ")@HL",
                  "7": "Pv9A1q^,g5*itwX9",
                  "8": "adventure-works\\shu0",
                  "9": "nJ6m0kça@tQH9bpvqé3tfjfA.com",
                  "10": "991-655-8389",
                  "11": "ZccoP/jZGQm+Xpzc7RKwDhS11YFNybwcPVRYTSNcnSg=",
                  "12": "sPoUBSQ=",
                  "13": "03e9273e-b193-448e-9823-fe0c44aeed78",
                  "14": "2006-07-01 00:00:00.0000000"
                },
                {
                  "0": "482835",
                  "1": "False",
                  "2": "Ms.",
                  "3": "R/8t^^h-",
                  "4": "K.",
                  "5": "OOZx-",
                  "7": "H90 1lQ@T-KDO%?Vbu c",
                  "8": "adventure-works\\josé1",
                  "9": "pmgVuUOjq@U%ua8RAvWsCLdwE.com",
                  "10": "797-848-6791",
                  "11": "Qa3aMCxNbVLGrc0b99KsbQqiVgwYDfHcsK9GZSUxcTM=",
                  "12": "Ls05W3g=",
                  "13": "cdb6698d-2ff1-4fba-8f22-60ad1d11dabd",
                  "14": "2006-09-01 00:00:00.0000000"
                },
                {
                  "0": "442145",
                  "1": "False",
                  "2": "Ms.",
                  "3": "l-CEnHbnS",
                  "5": "w^7GUqD",
                  "7": "soin/ok-6BF",
                  "8": "adventure-works\\josé1",
                  "9": "j%53U4m%eA@TnçaT48-LléqNVj.com",
                  "10": "039-947-1218",
                  "11": "uRlorVzDGNJIX9I+ehTlRK+liT4UKRgWhApJgUMC2d4=",
                  "12": "jpHKbqE=",
                  "13": "750f3495-59c4-48a0-80e1-e37ec60e77d9",
                  "14": "2005-08-01 00:00:00.0000000"
                },
                {
                  "0": "053325",
                  "1": "False",
                  "2": "Mr.",
                  "3": "vmr%TU",
                  "4": "T.",
                  "5": "Aq,X8H",
                  "6": "Jr.",
                  "7": "ISJ/acHjpa4-!KxRf\\z.",
                  "8": "adventure-works\\garrett1",
                  "9": "q+7Lnlm@UP49uIé4aTs+LEp.com",
                  "10": "613-790-6002",
                  "11": "jtF9jBoFYeJTaET7x+eJDkd7BzMz15Wo9odbGPBaIak=",
                  "12": "wVLnvHo=",
                  "13": "947bcaf1-1f32-44f3-b9c3-0011f95fbe54",
                  "14": "2006-08-01 00:00:00.0000000"
                }
              ],
              "schema": [
                {
                  "key": "0",
                  "name": "CustomerID",
                  "type": "string"
                },
                {
                  "key": "1",
                  "name": "NameStyle",
                  "type": "string"
                },
                {
                  "key": "2",
                  "name": "Title",
                  "type": "string"
                },
                {
                  "key": "3",
                  "name": "FirstName",
                  "type": "string"
                },
                {
                  "key": "4",
                  "name": "MiddleName",
                  "type": "string"
                },
                {
                  "key": "5",
                  "name": "LastName",
                  "type": "string"
                },
                {
                  "key": "6",
                  "name": "Suffix",
                  "type": "string"
                },
                {
                  "key": "7",
                  "name": "CompanyName",
                  "type": "string"
                },
                {
                  "key": "8",
                  "name": "SalesPerson",
                  "type": "string"
                },
                {
                  "key": "9",
                  "name": "EmailAddress",
                  "type": "string"
                },
                {
                  "key": "10",
                  "name": "Phone",
                  "type": "string"
                },
                {
                  "key": "11",
                  "name": "PasswordHash",
                  "type": "string"
                },
                {
                  "key": "12",
                  "name": "PasswordSalt",
                  "type": "string"
                },
                {
                  "key": "13",
                  "name": "rowguid",
                  "type": "string"
                },
                {
                  "key": "14",
                  "name": "ModifiedDate",
                  "type": "string"
                }
              ],
              "truncated": false
            },
            "isSummary": false,
            "language": "scala"
          },
          "persist_state": {
            "view": {
              "type": "details",
              "tableOptions": {},
              "chartOptions": {
                "chartType": "bar",
                "aggregationType": "count",
                "categoryFieldKeys": [
                  "0"
                ],
                "seriesFieldKeys": [
                  "0"
                ],
                "isStacked": false
              }
            }
          }
        }
      }
    }
  },
  "nbformat": 4,
  "nbformat_minor": 2
}
